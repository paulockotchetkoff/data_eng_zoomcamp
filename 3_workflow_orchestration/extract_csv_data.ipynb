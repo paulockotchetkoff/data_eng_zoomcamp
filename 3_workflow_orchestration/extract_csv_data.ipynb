{
 "cells": [
  {
   "cell_type": "code",
   "execution_count": 1,
   "metadata": {},
   "outputs": [],
   "source": [
    "import os\n",
    "\n",
    "import pandas as pd\n",
    "import requests"
   ]
  },
  {
   "cell_type": "code",
   "execution_count": 7,
   "metadata": {},
   "outputs": [
    {
     "name": "stdout",
     "output_type": "stream",
     "text": [
      "Downloading 2019-01\n",
      "Downloading 2019-02\n",
      "Downloading 2019-03\n",
      "Downloading 2019-04\n",
      "Downloading 2019-05\n",
      "Downloading 2019-06\n",
      "Downloading 2019-07\n",
      "Downloading 2019-08\n",
      "Downloading 2019-09\n",
      "Downloading 2019-10\n",
      "Downloading 2019-11\n",
      "Downloading 2019-12\n",
      "Downloading 2020-01\n",
      "Downloading 2020-02\n",
      "Downloading 2020-03\n",
      "Downloading 2020-04\n",
      "Downloading 2020-05\n",
      "Downloading 2020-06\n",
      "Downloading 2020-07\n",
      "Downloading 2020-08\n",
      "Downloading 2020-09\n",
      "Downloading 2020-10\n",
      "Downloading 2020-11\n",
      "Downloading 2020-12\n",
      "Downloading 2021-01\n",
      "Downloading 2021-02\n",
      "Downloading 2021-03\n",
      "Downloading 2021-04\n",
      "Downloading 2021-05\n",
      "Downloading 2021-06\n",
      "Downloading 2021-07\n",
      "Downloading 2021-08\n",
      "File 2021-08 not found.\n",
      "Downloading 2021-09\n",
      "File 2021-09 not found.\n",
      "Downloading 2021-10\n",
      "File 2021-10 not found.\n",
      "Downloading 2021-11\n",
      "File 2021-11 not found.\n",
      "Downloading 2021-12\n",
      "File 2021-12 not found.\n",
      "https://github.com/DataTalksClub/nyc-tlc-data/releases/download/green/green_tripdata_2019-01.csv.gz\n"
     ]
    }
   ],
   "source": [
    "base_url = 'https://github.com/DataTalksClub/nyc-tlc-data/releases/download/green/green_tripdata_{0}.csv.gz'\n",
    "\n",
    "for year in ['2019', '2020', '2021']:\n",
    "    for month in range(1, 13):\n",
    "        month = f'0{month}' if month < 10 else str(month)\n",
    "        year_month = f'{year}-{month}'\n",
    "    \n",
    "        print(f'Downloading {year_month}')\n",
    "\n",
    "        response = requests.get(base_url.format(year_month))\n",
    "        if response.status_code != 200:\n",
    "            print(f'File {year_month} not found.')\n",
    "            continue\n",
    "        \n",
    "        with open(f'data/green_trip_data_{year_month}.csv.gz', mode='wb') as f:\n",
    "            f.write(response.content)"
   ]
  },
  {
   "cell_type": "code",
   "execution_count": 9,
   "metadata": {},
   "outputs": [
    {
     "name": "stdout",
     "output_type": "stream",
     "text": [
      "green_trip_data_2019-01.csv.gz\n",
      "green_trip_data_2019-02.csv.gz\n",
      "green_trip_data_2019-03.csv.gz\n",
      "green_trip_data_2019-04.csv.gz\n",
      "green_trip_data_2019-05.csv.gz\n",
      "green_trip_data_2019-06.csv.gz\n",
      "green_trip_data_2019-07.csv.gz\n"
     ]
    },
    {
     "name": "stderr",
     "output_type": "stream",
     "text": [
      "C:\\Users\\EuPaulinho\\AppData\\Local\\Temp\\ipykernel_19848\\4206297266.py:6: DtypeWarning: Columns (3) have mixed types. Specify dtype option on import or set low_memory=False.\n",
      "  df = pd.read_csv(f'data/{f}', compression='gzip')\n"
     ]
    },
    {
     "name": "stdout",
     "output_type": "stream",
     "text": [
      "green_trip_data_2019-08.csv.gz\n"
     ]
    },
    {
     "name": "stderr",
     "output_type": "stream",
     "text": [
      "C:\\Users\\EuPaulinho\\AppData\\Local\\Temp\\ipykernel_19848\\4206297266.py:6: DtypeWarning: Columns (3) have mixed types. Specify dtype option on import or set low_memory=False.\n",
      "  df = pd.read_csv(f'data/{f}', compression='gzip')\n"
     ]
    },
    {
     "name": "stdout",
     "output_type": "stream",
     "text": [
      "green_trip_data_2019-09.csv.gz\n"
     ]
    },
    {
     "name": "stderr",
     "output_type": "stream",
     "text": [
      "C:\\Users\\EuPaulinho\\AppData\\Local\\Temp\\ipykernel_19848\\4206297266.py:6: DtypeWarning: Columns (3) have mixed types. Specify dtype option on import or set low_memory=False.\n",
      "  df = pd.read_csv(f'data/{f}', compression='gzip')\n"
     ]
    },
    {
     "name": "stdout",
     "output_type": "stream",
     "text": [
      "green_trip_data_2019-10.csv.gz\n"
     ]
    },
    {
     "name": "stderr",
     "output_type": "stream",
     "text": [
      "C:\\Users\\EuPaulinho\\AppData\\Local\\Temp\\ipykernel_19848\\4206297266.py:6: DtypeWarning: Columns (3) have mixed types. Specify dtype option on import or set low_memory=False.\n",
      "  df = pd.read_csv(f'data/{f}', compression='gzip')\n"
     ]
    },
    {
     "name": "stdout",
     "output_type": "stream",
     "text": [
      "green_trip_data_2019-11.csv.gz\n"
     ]
    },
    {
     "name": "stderr",
     "output_type": "stream",
     "text": [
      "C:\\Users\\EuPaulinho\\AppData\\Local\\Temp\\ipykernel_19848\\4206297266.py:6: DtypeWarning: Columns (3) have mixed types. Specify dtype option on import or set low_memory=False.\n",
      "  df = pd.read_csv(f'data/{f}', compression='gzip')\n"
     ]
    },
    {
     "name": "stdout",
     "output_type": "stream",
     "text": [
      "green_trip_data_2019-12.csv.gz\n"
     ]
    },
    {
     "name": "stderr",
     "output_type": "stream",
     "text": [
      "C:\\Users\\EuPaulinho\\AppData\\Local\\Temp\\ipykernel_19848\\4206297266.py:6: DtypeWarning: Columns (3) have mixed types. Specify dtype option on import or set low_memory=False.\n",
      "  df = pd.read_csv(f'data/{f}', compression='gzip')\n"
     ]
    },
    {
     "name": "stdout",
     "output_type": "stream",
     "text": [
      "green_trip_data_2020-01.csv.gz\n"
     ]
    },
    {
     "name": "stderr",
     "output_type": "stream",
     "text": [
      "C:\\Users\\EuPaulinho\\AppData\\Local\\Temp\\ipykernel_19848\\4206297266.py:6: DtypeWarning: Columns (3) have mixed types. Specify dtype option on import or set low_memory=False.\n",
      "  df = pd.read_csv(f'data/{f}', compression='gzip')\n"
     ]
    },
    {
     "name": "stdout",
     "output_type": "stream",
     "text": [
      "green_trip_data_2020-02.csv.gz\n"
     ]
    },
    {
     "name": "stderr",
     "output_type": "stream",
     "text": [
      "C:\\Users\\EuPaulinho\\AppData\\Local\\Temp\\ipykernel_19848\\4206297266.py:6: DtypeWarning: Columns (3) have mixed types. Specify dtype option on import or set low_memory=False.\n",
      "  df = pd.read_csv(f'data/{f}', compression='gzip')\n"
     ]
    },
    {
     "name": "stdout",
     "output_type": "stream",
     "text": [
      "green_trip_data_2020-03.csv.gz\n"
     ]
    },
    {
     "name": "stderr",
     "output_type": "stream",
     "text": [
      "C:\\Users\\EuPaulinho\\AppData\\Local\\Temp\\ipykernel_19848\\4206297266.py:6: DtypeWarning: Columns (3) have mixed types. Specify dtype option on import or set low_memory=False.\n",
      "  df = pd.read_csv(f'data/{f}', compression='gzip')\n"
     ]
    },
    {
     "name": "stdout",
     "output_type": "stream",
     "text": [
      "green_trip_data_2020-04.csv.gz\n"
     ]
    },
    {
     "name": "stderr",
     "output_type": "stream",
     "text": [
      "C:\\Users\\EuPaulinho\\AppData\\Local\\Temp\\ipykernel_19848\\4206297266.py:6: DtypeWarning: Columns (3) have mixed types. Specify dtype option on import or set low_memory=False.\n",
      "  df = pd.read_csv(f'data/{f}', compression='gzip')\n"
     ]
    },
    {
     "name": "stdout",
     "output_type": "stream",
     "text": [
      "green_trip_data_2020-05.csv.gz\n"
     ]
    },
    {
     "name": "stderr",
     "output_type": "stream",
     "text": [
      "C:\\Users\\EuPaulinho\\AppData\\Local\\Temp\\ipykernel_19848\\4206297266.py:6: DtypeWarning: Columns (3) have mixed types. Specify dtype option on import or set low_memory=False.\n",
      "  df = pd.read_csv(f'data/{f}', compression='gzip')\n"
     ]
    },
    {
     "name": "stdout",
     "output_type": "stream",
     "text": [
      "green_trip_data_2020-06.csv.gz\n",
      "green_trip_data_2020-07.csv.gz\n"
     ]
    },
    {
     "name": "stderr",
     "output_type": "stream",
     "text": [
      "C:\\Users\\EuPaulinho\\AppData\\Local\\Temp\\ipykernel_19848\\4206297266.py:6: DtypeWarning: Columns (3) have mixed types. Specify dtype option on import or set low_memory=False.\n",
      "  df = pd.read_csv(f'data/{f}', compression='gzip')\n"
     ]
    },
    {
     "name": "stdout",
     "output_type": "stream",
     "text": [
      "green_trip_data_2020-08.csv.gz\n"
     ]
    },
    {
     "name": "stderr",
     "output_type": "stream",
     "text": [
      "C:\\Users\\EuPaulinho\\AppData\\Local\\Temp\\ipykernel_19848\\4206297266.py:6: DtypeWarning: Columns (3) have mixed types. Specify dtype option on import or set low_memory=False.\n",
      "  df = pd.read_csv(f'data/{f}', compression='gzip')\n"
     ]
    },
    {
     "name": "stdout",
     "output_type": "stream",
     "text": [
      "green_trip_data_2020-09.csv.gz\n"
     ]
    },
    {
     "name": "stderr",
     "output_type": "stream",
     "text": [
      "C:\\Users\\EuPaulinho\\AppData\\Local\\Temp\\ipykernel_19848\\4206297266.py:6: DtypeWarning: Columns (3) have mixed types. Specify dtype option on import or set low_memory=False.\n",
      "  df = pd.read_csv(f'data/{f}', compression='gzip')\n"
     ]
    },
    {
     "name": "stdout",
     "output_type": "stream",
     "text": [
      "green_trip_data_2020-10.csv.gz\n"
     ]
    },
    {
     "name": "stderr",
     "output_type": "stream",
     "text": [
      "C:\\Users\\EuPaulinho\\AppData\\Local\\Temp\\ipykernel_19848\\4206297266.py:6: DtypeWarning: Columns (3) have mixed types. Specify dtype option on import or set low_memory=False.\n",
      "  df = pd.read_csv(f'data/{f}', compression='gzip')\n"
     ]
    },
    {
     "name": "stdout",
     "output_type": "stream",
     "text": [
      "green_trip_data_2020-11.csv.gz\n"
     ]
    },
    {
     "name": "stderr",
     "output_type": "stream",
     "text": [
      "C:\\Users\\EuPaulinho\\AppData\\Local\\Temp\\ipykernel_19848\\4206297266.py:6: DtypeWarning: Columns (3) have mixed types. Specify dtype option on import or set low_memory=False.\n",
      "  df = pd.read_csv(f'data/{f}', compression='gzip')\n"
     ]
    },
    {
     "name": "stdout",
     "output_type": "stream",
     "text": [
      "green_trip_data_2020-12.csv.gz\n"
     ]
    },
    {
     "name": "stderr",
     "output_type": "stream",
     "text": [
      "C:\\Users\\EuPaulinho\\AppData\\Local\\Temp\\ipykernel_19848\\4206297266.py:6: DtypeWarning: Columns (3) have mixed types. Specify dtype option on import or set low_memory=False.\n",
      "  df = pd.read_csv(f'data/{f}', compression='gzip')\n"
     ]
    },
    {
     "name": "stdout",
     "output_type": "stream",
     "text": [
      "green_trip_data_2021-01.csv.gz\n"
     ]
    },
    {
     "name": "stderr",
     "output_type": "stream",
     "text": [
      "C:\\Users\\EuPaulinho\\AppData\\Local\\Temp\\ipykernel_19848\\4206297266.py:6: DtypeWarning: Columns (3) have mixed types. Specify dtype option on import or set low_memory=False.\n",
      "  df = pd.read_csv(f'data/{f}', compression='gzip')\n"
     ]
    },
    {
     "name": "stdout",
     "output_type": "stream",
     "text": [
      "green_trip_data_2021-02.csv.gz\n",
      "green_trip_data_2021-03.csv.gz\n"
     ]
    },
    {
     "name": "stderr",
     "output_type": "stream",
     "text": [
      "C:\\Users\\EuPaulinho\\AppData\\Local\\Temp\\ipykernel_19848\\4206297266.py:6: DtypeWarning: Columns (3) have mixed types. Specify dtype option on import or set low_memory=False.\n",
      "  df = pd.read_csv(f'data/{f}', compression='gzip')\n"
     ]
    },
    {
     "name": "stdout",
     "output_type": "stream",
     "text": [
      "green_trip_data_2021-04.csv.gz\n"
     ]
    },
    {
     "name": "stderr",
     "output_type": "stream",
     "text": [
      "C:\\Users\\EuPaulinho\\AppData\\Local\\Temp\\ipykernel_19848\\4206297266.py:6: DtypeWarning: Columns (3) have mixed types. Specify dtype option on import or set low_memory=False.\n",
      "  df = pd.read_csv(f'data/{f}', compression='gzip')\n"
     ]
    },
    {
     "name": "stdout",
     "output_type": "stream",
     "text": [
      "green_trip_data_2021-05.csv.gz\n"
     ]
    },
    {
     "name": "stderr",
     "output_type": "stream",
     "text": [
      "C:\\Users\\EuPaulinho\\AppData\\Local\\Temp\\ipykernel_19848\\4206297266.py:6: DtypeWarning: Columns (3) have mixed types. Specify dtype option on import or set low_memory=False.\n",
      "  df = pd.read_csv(f'data/{f}', compression='gzip')\n"
     ]
    },
    {
     "name": "stdout",
     "output_type": "stream",
     "text": [
      "green_trip_data_2021-06.csv.gz\n"
     ]
    },
    {
     "name": "stderr",
     "output_type": "stream",
     "text": [
      "C:\\Users\\EuPaulinho\\AppData\\Local\\Temp\\ipykernel_19848\\4206297266.py:6: DtypeWarning: Columns (3) have mixed types. Specify dtype option on import or set low_memory=False.\n",
      "  df = pd.read_csv(f'data/{f}', compression='gzip')\n"
     ]
    },
    {
     "name": "stdout",
     "output_type": "stream",
     "text": [
      "green_trip_data_2021-07.csv.gz\n"
     ]
    },
    {
     "name": "stderr",
     "output_type": "stream",
     "text": [
      "C:\\Users\\EuPaulinho\\AppData\\Local\\Temp\\ipykernel_19848\\4206297266.py:6: DtypeWarning: Columns (3) have mixed types. Specify dtype option on import or set low_memory=False.\n",
      "  df = pd.read_csv(f'data/{f}', compression='gzip')\n"
     ]
    }
   ],
   "source": [
    "for f in os.listdir('data'):\n",
    "    if 'gz' not in f:\n",
    "        continue\n",
    "\n",
    "    print(f)\n",
    "    df = pd.read_csv(f'data/{f}', compression='gzip')\n",
    "\n",
    "    df['lpep_pickup_datetime'] = pd.to_datetime(df['lpep_pickup_datetime'])\n",
    "    df['lpep_dropoff_datetime'] = pd.to_datetime(df['lpep_dropoff_datetime'])\n",
    "\n",
    "    df.to_csv(f'data/{f.replace('.gz', '')}', index=False)\n",
    "\n",
    "    os.remove(f'data/{f}')"
   ]
  }
 ],
 "metadata": {
  "kernelspec": {
   "display_name": "Python 3",
   "language": "python",
   "name": "python3"
  },
  "language_info": {
   "codemirror_mode": {
    "name": "ipython",
    "version": 3
   },
   "file_extension": ".py",
   "mimetype": "text/x-python",
   "name": "python",
   "nbconvert_exporter": "python",
   "pygments_lexer": "ipython3",
   "version": "3.12.8"
  }
 },
 "nbformat": 4,
 "nbformat_minor": 2
}
